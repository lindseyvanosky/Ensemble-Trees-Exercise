{
  "nbformat": 4,
  "nbformat_minor": 0,
  "metadata": {
    "colab": {
      "provenance": [],
      "mount_file_id": "136lUepyOUt0EooSz2SNpa9lJauNkp1eD",
      "authorship_tag": "ABX9TyMLhBpBIQk1hSqx4d1JwfYt",
      "include_colab_link": true
    },
    "kernelspec": {
      "name": "python3",
      "display_name": "Python 3"
    },
    "language_info": {
      "name": "python"
    }
  },
  "cells": [
    {
      "cell_type": "markdown",
      "metadata": {
        "id": "view-in-github",
        "colab_type": "text"
      },
      "source": [
        "<a href=\"https://colab.research.google.com/github/lindseyvanosky/Ensemble-Trees-Exercise/blob/main/LV_Ensemble_Trees_Exercise.ipynb\" target=\"_parent\"><img src=\"https://colab.research.google.com/assets/colab-badge.svg\" alt=\"Open In Colab\"/></a>"
      ]
    },
    {
      "cell_type": "markdown",
      "source": [
        "#Ensemble Trees Exercise\n",
        "- Lindsey Vanosky \n",
        "- 06.29.22"
      ],
      "metadata": {
        "id": "akhKWt6Odxvw"
      }
    },
    {
      "cell_type": "markdown",
      "source": [
        "##Import Libraries & Inspect Data"
      ],
      "metadata": {
        "id": "Pl9ML9P8gbdy"
      }
    },
    {
      "cell_type": "code",
      "execution_count": null,
      "metadata": {
        "colab": {
          "base_uri": "https://localhost:8080/"
        },
        "id": "SaKIp0ardtVV",
        "outputId": "891d367c-e641-494e-aa2d-d0f980f9c24f"
      },
      "outputs": [
        {
          "output_type": "execute_result",
          "data": {
            "text/plain": [
              "      CRIM    NOX     RM   AGE  PTRATIO  LSTAT  PRICE\n",
              "0  0.00632  0.538  6.575  65.2     15.3   4.98   24.0\n",
              "1  0.02731  0.469  6.421  78.9     17.8   9.14   21.6\n",
              "2  0.02729  0.469  7.185  61.1     17.8   4.03   34.7\n",
              "3  0.03237  0.458  6.998  45.8     18.7   2.94   33.4\n",
              "4  0.06905  0.458  7.147  54.2     18.7   5.33   36.2"
            ],
            "text/html": [
              "\n",
              "  <div id=\"df-673df6f5-72d4-43ea-9be6-e7eab487e332\">\n",
              "    <div class=\"colab-df-container\">\n",
              "      <div>\n",
              "<style scoped>\n",
              "    .dataframe tbody tr th:only-of-type {\n",
              "        vertical-align: middle;\n",
              "    }\n",
              "\n",
              "    .dataframe tbody tr th {\n",
              "        vertical-align: top;\n",
              "    }\n",
              "\n",
              "    .dataframe thead th {\n",
              "        text-align: right;\n",
              "    }\n",
              "</style>\n",
              "<table border=\"1\" class=\"dataframe\">\n",
              "  <thead>\n",
              "    <tr style=\"text-align: right;\">\n",
              "      <th></th>\n",
              "      <th>CRIM</th>\n",
              "      <th>NOX</th>\n",
              "      <th>RM</th>\n",
              "      <th>AGE</th>\n",
              "      <th>PTRATIO</th>\n",
              "      <th>LSTAT</th>\n",
              "      <th>PRICE</th>\n",
              "    </tr>\n",
              "  </thead>\n",
              "  <tbody>\n",
              "    <tr>\n",
              "      <th>0</th>\n",
              "      <td>0.00632</td>\n",
              "      <td>0.538</td>\n",
              "      <td>6.575</td>\n",
              "      <td>65.2</td>\n",
              "      <td>15.3</td>\n",
              "      <td>4.98</td>\n",
              "      <td>24.0</td>\n",
              "    </tr>\n",
              "    <tr>\n",
              "      <th>1</th>\n",
              "      <td>0.02731</td>\n",
              "      <td>0.469</td>\n",
              "      <td>6.421</td>\n",
              "      <td>78.9</td>\n",
              "      <td>17.8</td>\n",
              "      <td>9.14</td>\n",
              "      <td>21.6</td>\n",
              "    </tr>\n",
              "    <tr>\n",
              "      <th>2</th>\n",
              "      <td>0.02729</td>\n",
              "      <td>0.469</td>\n",
              "      <td>7.185</td>\n",
              "      <td>61.1</td>\n",
              "      <td>17.8</td>\n",
              "      <td>4.03</td>\n",
              "      <td>34.7</td>\n",
              "    </tr>\n",
              "    <tr>\n",
              "      <th>3</th>\n",
              "      <td>0.03237</td>\n",
              "      <td>0.458</td>\n",
              "      <td>6.998</td>\n",
              "      <td>45.8</td>\n",
              "      <td>18.7</td>\n",
              "      <td>2.94</td>\n",
              "      <td>33.4</td>\n",
              "    </tr>\n",
              "    <tr>\n",
              "      <th>4</th>\n",
              "      <td>0.06905</td>\n",
              "      <td>0.458</td>\n",
              "      <td>7.147</td>\n",
              "      <td>54.2</td>\n",
              "      <td>18.7</td>\n",
              "      <td>5.33</td>\n",
              "      <td>36.2</td>\n",
              "    </tr>\n",
              "  </tbody>\n",
              "</table>\n",
              "</div>\n",
              "      <button class=\"colab-df-convert\" onclick=\"convertToInteractive('df-673df6f5-72d4-43ea-9be6-e7eab487e332')\"\n",
              "              title=\"Convert this dataframe to an interactive table.\"\n",
              "              style=\"display:none;\">\n",
              "        \n",
              "  <svg xmlns=\"http://www.w3.org/2000/svg\" height=\"24px\"viewBox=\"0 0 24 24\"\n",
              "       width=\"24px\">\n",
              "    <path d=\"M0 0h24v24H0V0z\" fill=\"none\"/>\n",
              "    <path d=\"M18.56 5.44l.94 2.06.94-2.06 2.06-.94-2.06-.94-.94-2.06-.94 2.06-2.06.94zm-11 1L8.5 8.5l.94-2.06 2.06-.94-2.06-.94L8.5 2.5l-.94 2.06-2.06.94zm10 10l.94 2.06.94-2.06 2.06-.94-2.06-.94-.94-2.06-.94 2.06-2.06.94z\"/><path d=\"M17.41 7.96l-1.37-1.37c-.4-.4-.92-.59-1.43-.59-.52 0-1.04.2-1.43.59L10.3 9.45l-7.72 7.72c-.78.78-.78 2.05 0 2.83L4 21.41c.39.39.9.59 1.41.59.51 0 1.02-.2 1.41-.59l7.78-7.78 2.81-2.81c.8-.78.8-2.07 0-2.86zM5.41 20L4 18.59l7.72-7.72 1.47 1.35L5.41 20z\"/>\n",
              "  </svg>\n",
              "      </button>\n",
              "      \n",
              "  <style>\n",
              "    .colab-df-container {\n",
              "      display:flex;\n",
              "      flex-wrap:wrap;\n",
              "      gap: 12px;\n",
              "    }\n",
              "\n",
              "    .colab-df-convert {\n",
              "      background-color: #E8F0FE;\n",
              "      border: none;\n",
              "      border-radius: 50%;\n",
              "      cursor: pointer;\n",
              "      display: none;\n",
              "      fill: #1967D2;\n",
              "      height: 32px;\n",
              "      padding: 0 0 0 0;\n",
              "      width: 32px;\n",
              "    }\n",
              "\n",
              "    .colab-df-convert:hover {\n",
              "      background-color: #E2EBFA;\n",
              "      box-shadow: 0px 1px 2px rgba(60, 64, 67, 0.3), 0px 1px 3px 1px rgba(60, 64, 67, 0.15);\n",
              "      fill: #174EA6;\n",
              "    }\n",
              "\n",
              "    [theme=dark] .colab-df-convert {\n",
              "      background-color: #3B4455;\n",
              "      fill: #D2E3FC;\n",
              "    }\n",
              "\n",
              "    [theme=dark] .colab-df-convert:hover {\n",
              "      background-color: #434B5C;\n",
              "      box-shadow: 0px 1px 3px 1px rgba(0, 0, 0, 0.15);\n",
              "      filter: drop-shadow(0px 1px 2px rgba(0, 0, 0, 0.3));\n",
              "      fill: #FFFFFF;\n",
              "    }\n",
              "  </style>\n",
              "\n",
              "      <script>\n",
              "        const buttonEl =\n",
              "          document.querySelector('#df-673df6f5-72d4-43ea-9be6-e7eab487e332 button.colab-df-convert');\n",
              "        buttonEl.style.display =\n",
              "          google.colab.kernel.accessAllowed ? 'block' : 'none';\n",
              "\n",
              "        async function convertToInteractive(key) {\n",
              "          const element = document.querySelector('#df-673df6f5-72d4-43ea-9be6-e7eab487e332');\n",
              "          const dataTable =\n",
              "            await google.colab.kernel.invokeFunction('convertToInteractive',\n",
              "                                                     [key], {});\n",
              "          if (!dataTable) return;\n",
              "\n",
              "          const docLinkHtml = 'Like what you see? Visit the ' +\n",
              "            '<a target=\"_blank\" href=https://colab.research.google.com/notebooks/data_table.ipynb>data table notebook</a>'\n",
              "            + ' to learn more about interactive tables.';\n",
              "          element.innerHTML = '';\n",
              "          dataTable['output_type'] = 'display_data';\n",
              "          await google.colab.output.renderOutput(dataTable, element);\n",
              "          const docLink = document.createElement('div');\n",
              "          docLink.innerHTML = docLinkHtml;\n",
              "          element.appendChild(docLink);\n",
              "        }\n",
              "      </script>\n",
              "    </div>\n",
              "  </div>\n",
              "  "
            ]
          },
          "metadata": {},
          "execution_count": 124
        }
      ],
      "source": [
        "import pandas as pd\n",
        "import numpy as np\n",
        "from sklearn.preprocessing import OneHotEncoder, StandardScaler\n",
        "from sklearn.compose import make_column_selector, make_column_transformer\n",
        "from sklearn.impute import SimpleImputer\n",
        "from sklearn.model_selection import train_test_split\n",
        "from sklearn.pipeline import make_pipeline\n",
        "from sklearn.linear_model import LinearRegression\n",
        "from sklearn.metrics import mean_absolute_error, mean_squared_error, r2_score\n",
        "from sklearn.ensemble import RandomForestRegressor\n",
        "from sklearn.ensemble import BaggingRegressor\n",
        "from sklearn.tree import DecisionTreeRegressor\n",
        "\n",
        "filename = \"/content/drive/MyDrive/Coding Dojo/02 Stack 2: Intro to Machine Learning/Data Sets/Boston_Housing_from_Sklearn.csv\"\n",
        "df = pd.read_csv(filename)\n",
        "df.head()"
      ]
    },
    {
      "cell_type": "markdown",
      "source": [
        "##Defining targets, features and train test split"
      ],
      "metadata": {
        "id": "5rT6FqG3i8hN"
      }
    },
    {
      "cell_type": "code",
      "source": [
        "y = df[\"PRICE\"]\n",
        "x = df[[\"RM\", \"LSTAT\", \"PTRATIO\"]]\n",
        "x_train, x_test, y_train, y_test = train_test_split(x, y, random_state = 42)"
      ],
      "metadata": {
        "id": "RGkewuYPjFuP"
      },
      "execution_count": null,
      "outputs": []
    },
    {
      "cell_type": "markdown",
      "source": [
        "## 1) Decision Tree"
      ],
      "metadata": {
        "id": "lRV5wSK-iodi"
      }
    },
    {
      "cell_type": "code",
      "source": [
        "dec_tree = DecisionTreeRegressor(random_state = 42)\n",
        "dec_tree.fit(x_train, y_train)"
      ],
      "metadata": {
        "colab": {
          "base_uri": "https://localhost:8080/"
        },
        "id": "H4XsmN_1jsit",
        "outputId": "1efae99f-3f3b-49ba-b37f-14a573161051"
      },
      "execution_count": null,
      "outputs": [
        {
          "output_type": "execute_result",
          "data": {
            "text/plain": [
              "DecisionTreeRegressor(random_state=42)"
            ]
          },
          "metadata": {},
          "execution_count": 126
        }
      ]
    },
    {
      "cell_type": "markdown",
      "source": [
        "######Scoring (r2)"
      ],
      "metadata": {
        "id": "zcCiG1yflWIr"
      }
    },
    {
      "cell_type": "code",
      "source": [
        "train_score = dec_tree.score(x_train, y_train)\n",
        "test_score = dec_tree.score(x_test, y_test)\n",
        "print(train_score)\n",
        "print(test_score)\n",
        "#We can see this is overfitting"
      ],
      "metadata": {
        "colab": {
          "base_uri": "https://localhost:8080/"
        },
        "id": "C3KrFAuxlVjF",
        "outputId": "adcc1e41-2c36-4b92-8271-c585ecba1ed5"
      },
      "execution_count": null,
      "outputs": [
        {
          "output_type": "stream",
          "name": "stdout",
          "text": [
            "1.0\n",
            "0.45752194086453823\n"
          ]
        }
      ]
    },
    {
      "cell_type": "markdown",
      "source": [
        "######Hyperparameter Tuning"
      ],
      "metadata": {
        "id": "YT57Q_6XlzBF"
      }
    },
    {
      "cell_type": "code",
      "source": [
        "dec_tree.get_params()"
      ],
      "metadata": {
        "colab": {
          "base_uri": "https://localhost:8080/"
        },
        "id": "wA-4RYi6l0ff",
        "outputId": "a485a9c9-513e-41c1-d7ce-62f487689fc1"
      },
      "execution_count": null,
      "outputs": [
        {
          "output_type": "execute_result",
          "data": {
            "text/plain": [
              "{'ccp_alpha': 0.0,\n",
              " 'criterion': 'squared_error',\n",
              " 'max_depth': None,\n",
              " 'max_features': None,\n",
              " 'max_leaf_nodes': None,\n",
              " 'min_impurity_decrease': 0.0,\n",
              " 'min_samples_leaf': 1,\n",
              " 'min_samples_split': 2,\n",
              " 'min_weight_fraction_leaf': 0.0,\n",
              " 'random_state': 42,\n",
              " 'splitter': 'best'}"
            ]
          },
          "metadata": {},
          "execution_count": 128
        }
      ]
    },
    {
      "cell_type": "code",
      "source": [
        "dec_tree.get_depth()"
      ],
      "metadata": {
        "colab": {
          "base_uri": "https://localhost:8080/"
        },
        "id": "Xnt7PpPdmA-N",
        "outputId": "7b47b246-68db-4caf-d58a-4d00f2c16a53"
      },
      "execution_count": null,
      "outputs": [
        {
          "output_type": "execute_result",
          "data": {
            "text/plain": [
              "20"
            ]
          },
          "metadata": {},
          "execution_count": 129
        }
      ]
    },
    {
      "cell_type": "code",
      "source": [
        "dec_tree.get_n_leaves()"
      ],
      "metadata": {
        "colab": {
          "base_uri": "https://localhost:8080/"
        },
        "id": "uRSE4bbmmFmy",
        "outputId": "e28bc7ca-6325-45e1-c943-bfc43f10fd42"
      },
      "execution_count": null,
      "outputs": [
        {
          "output_type": "execute_result",
          "data": {
            "text/plain": [
              "368"
            ]
          },
          "metadata": {},
          "execution_count": 130
        }
      ]
    },
    {
      "cell_type": "code",
      "source": [
        "depths = list(range(10, 50))\n",
        "scores = pd.DataFrame(index=depths, columns=['Test Score','Train Score'])\n",
        "for depth in depths:\n",
        "    dec_tree = DecisionTreeRegressor(max_depth=depth, random_state=42)\n",
        "    dec_tree.fit(x_train, y_train)\n",
        "    train_score = dec_tree.score(x_test, y_test)\n",
        "    test_score = dec_tree.score(x_test, y_test)\n",
        "    scores.loc[depth, 'Train Score'] = train_score\n",
        "    scores.loc[depth, 'Test Score'] = test_score\n",
        "sort_scores = scores.sort_values(by = \"Test Score\", ascending = False)\n",
        "sort_scores.head()\n",
        "#it looks like 11 is the optimal number for depth"
      ],
      "metadata": {
        "colab": {
          "base_uri": "https://localhost:8080/"
        },
        "id": "arWYR9AemTu-",
        "outputId": "fe0ab7cf-1c6a-453a-d308-efbe91defc25"
      },
      "execution_count": null,
      "outputs": [
        {
          "output_type": "execute_result",
          "data": {
            "text/plain": [
              "   Test Score Train Score\n",
              "11   0.615357    0.615357\n",
              "19   0.463279    0.463279\n",
              "16   0.463274    0.463274\n",
              "10   0.459877    0.459877\n",
              "13   0.458512    0.458512"
            ],
            "text/html": [
              "\n",
              "  <div id=\"df-7f5c1ffd-7c70-4003-aa9b-3a353b0c286a\">\n",
              "    <div class=\"colab-df-container\">\n",
              "      <div>\n",
              "<style scoped>\n",
              "    .dataframe tbody tr th:only-of-type {\n",
              "        vertical-align: middle;\n",
              "    }\n",
              "\n",
              "    .dataframe tbody tr th {\n",
              "        vertical-align: top;\n",
              "    }\n",
              "\n",
              "    .dataframe thead th {\n",
              "        text-align: right;\n",
              "    }\n",
              "</style>\n",
              "<table border=\"1\" class=\"dataframe\">\n",
              "  <thead>\n",
              "    <tr style=\"text-align: right;\">\n",
              "      <th></th>\n",
              "      <th>Test Score</th>\n",
              "      <th>Train Score</th>\n",
              "    </tr>\n",
              "  </thead>\n",
              "  <tbody>\n",
              "    <tr>\n",
              "      <th>11</th>\n",
              "      <td>0.615357</td>\n",
              "      <td>0.615357</td>\n",
              "    </tr>\n",
              "    <tr>\n",
              "      <th>19</th>\n",
              "      <td>0.463279</td>\n",
              "      <td>0.463279</td>\n",
              "    </tr>\n",
              "    <tr>\n",
              "      <th>16</th>\n",
              "      <td>0.463274</td>\n",
              "      <td>0.463274</td>\n",
              "    </tr>\n",
              "    <tr>\n",
              "      <th>10</th>\n",
              "      <td>0.459877</td>\n",
              "      <td>0.459877</td>\n",
              "    </tr>\n",
              "    <tr>\n",
              "      <th>13</th>\n",
              "      <td>0.458512</td>\n",
              "      <td>0.458512</td>\n",
              "    </tr>\n",
              "  </tbody>\n",
              "</table>\n",
              "</div>\n",
              "      <button class=\"colab-df-convert\" onclick=\"convertToInteractive('df-7f5c1ffd-7c70-4003-aa9b-3a353b0c286a')\"\n",
              "              title=\"Convert this dataframe to an interactive table.\"\n",
              "              style=\"display:none;\">\n",
              "        \n",
              "  <svg xmlns=\"http://www.w3.org/2000/svg\" height=\"24px\"viewBox=\"0 0 24 24\"\n",
              "       width=\"24px\">\n",
              "    <path d=\"M0 0h24v24H0V0z\" fill=\"none\"/>\n",
              "    <path d=\"M18.56 5.44l.94 2.06.94-2.06 2.06-.94-2.06-.94-.94-2.06-.94 2.06-2.06.94zm-11 1L8.5 8.5l.94-2.06 2.06-.94-2.06-.94L8.5 2.5l-.94 2.06-2.06.94zm10 10l.94 2.06.94-2.06 2.06-.94-2.06-.94-.94-2.06-.94 2.06-2.06.94z\"/><path d=\"M17.41 7.96l-1.37-1.37c-.4-.4-.92-.59-1.43-.59-.52 0-1.04.2-1.43.59L10.3 9.45l-7.72 7.72c-.78.78-.78 2.05 0 2.83L4 21.41c.39.39.9.59 1.41.59.51 0 1.02-.2 1.41-.59l7.78-7.78 2.81-2.81c.8-.78.8-2.07 0-2.86zM5.41 20L4 18.59l7.72-7.72 1.47 1.35L5.41 20z\"/>\n",
              "  </svg>\n",
              "      </button>\n",
              "      \n",
              "  <style>\n",
              "    .colab-df-container {\n",
              "      display:flex;\n",
              "      flex-wrap:wrap;\n",
              "      gap: 12px;\n",
              "    }\n",
              "\n",
              "    .colab-df-convert {\n",
              "      background-color: #E8F0FE;\n",
              "      border: none;\n",
              "      border-radius: 50%;\n",
              "      cursor: pointer;\n",
              "      display: none;\n",
              "      fill: #1967D2;\n",
              "      height: 32px;\n",
              "      padding: 0 0 0 0;\n",
              "      width: 32px;\n",
              "    }\n",
              "\n",
              "    .colab-df-convert:hover {\n",
              "      background-color: #E2EBFA;\n",
              "      box-shadow: 0px 1px 2px rgba(60, 64, 67, 0.3), 0px 1px 3px 1px rgba(60, 64, 67, 0.15);\n",
              "      fill: #174EA6;\n",
              "    }\n",
              "\n",
              "    [theme=dark] .colab-df-convert {\n",
              "      background-color: #3B4455;\n",
              "      fill: #D2E3FC;\n",
              "    }\n",
              "\n",
              "    [theme=dark] .colab-df-convert:hover {\n",
              "      background-color: #434B5C;\n",
              "      box-shadow: 0px 1px 3px 1px rgba(0, 0, 0, 0.15);\n",
              "      filter: drop-shadow(0px 1px 2px rgba(0, 0, 0, 0.3));\n",
              "      fill: #FFFFFF;\n",
              "    }\n",
              "  </style>\n",
              "\n",
              "      <script>\n",
              "        const buttonEl =\n",
              "          document.querySelector('#df-7f5c1ffd-7c70-4003-aa9b-3a353b0c286a button.colab-df-convert');\n",
              "        buttonEl.style.display =\n",
              "          google.colab.kernel.accessAllowed ? 'block' : 'none';\n",
              "\n",
              "        async function convertToInteractive(key) {\n",
              "          const element = document.querySelector('#df-7f5c1ffd-7c70-4003-aa9b-3a353b0c286a');\n",
              "          const dataTable =\n",
              "            await google.colab.kernel.invokeFunction('convertToInteractive',\n",
              "                                                     [key], {});\n",
              "          if (!dataTable) return;\n",
              "\n",
              "          const docLinkHtml = 'Like what you see? Visit the ' +\n",
              "            '<a target=\"_blank\" href=https://colab.research.google.com/notebooks/data_table.ipynb>data table notebook</a>'\n",
              "            + ' to learn more about interactive tables.';\n",
              "          element.innerHTML = '';\n",
              "          dataTable['output_type'] = 'display_data';\n",
              "          await google.colab.output.renderOutput(dataTable, element);\n",
              "          const docLink = document.createElement('div');\n",
              "          docLink.innerHTML = docLinkHtml;\n",
              "          element.appendChild(docLink);\n",
              "        }\n",
              "      </script>\n",
              "    </div>\n",
              "  </div>\n",
              "  "
            ]
          },
          "metadata": {},
          "execution_count": 131
        }
      ]
    },
    {
      "cell_type": "markdown",
      "source": [
        "#####Final Scores"
      ],
      "metadata": {
        "id": "TLppGCUCqDCP"
      }
    },
    {
      "cell_type": "code",
      "source": [
        "#r2\n",
        "dec_tree_new = DecisionTreeRegressor(max_depth = 11, random_state = 42)\n",
        "dec_tree_new.fit(x_train, y_train)\n",
        "\n",
        "new_train_score = dec_tree_new.score(x_train, y_train)\n",
        "new_test_score = dec_tree_new.score(x_test, y_test)\n",
        "\n",
        "print(new_train_score)\n",
        "print(new_test_score)"
      ],
      "metadata": {
        "colab": {
          "base_uri": "https://localhost:8080/"
        },
        "id": "MQf3F0iFnn00",
        "outputId": "10f51936-c040-4775-d2fb-04301b13d724"
      },
      "execution_count": null,
      "outputs": [
        {
          "output_type": "stream",
          "name": "stdout",
          "text": [
            "0.9928919828140517\n",
            "0.6153566129025645\n"
          ]
        }
      ]
    },
    {
      "cell_type": "markdown",
      "source": [
        "######Adding Predictions"
      ],
      "metadata": {
        "id": "r6REViK1_b48"
      }
    },
    {
      "cell_type": "code",
      "source": [
        "dec_train_pred = dec_tree_new.predict(x_train)\n",
        "dec_test_pred = dec_tree_new.predict(x_test)"
      ],
      "metadata": {
        "id": "kTSVIi1j_fEN"
      },
      "execution_count": null,
      "outputs": []
    },
    {
      "cell_type": "code",
      "source": [
        "#MAE\n",
        "dec_train_MAE = mean_absolute_error(y_train, dec_train_pred)\n",
        "dec_test_MAE = mean_absolute_error(y_test, dec_test_pred)\n",
        "print(dec_train_MAE)\n",
        "print(dec_test_MAE)"
      ],
      "metadata": {
        "colab": {
          "base_uri": "https://localhost:8080/"
        },
        "id": "8sfQmGXgyBcc",
        "outputId": "949301cf-8701-4dae-ebe6-cb7e178efac8"
      },
      "execution_count": null,
      "outputs": [
        {
          "output_type": "stream",
          "name": "stdout",
          "text": [
            "0.38953294726381793\n",
            "3.28498159320994\n"
          ]
        }
      ]
    },
    {
      "cell_type": "code",
      "source": [
        "#MSE\n",
        "dec_train_MSE = mean_squared_error(y_train, dec_train_pred)\n",
        "dec_test_MSE = mean_squared_error(y_test, dec_test_pred)\n",
        "print(dec_train_MSE)\n",
        "print(dec_test_MSE)"
      ],
      "metadata": {
        "colab": {
          "base_uri": "https://localhost:8080/"
        },
        "id": "noYlimI_yjrX",
        "outputId": "b98df321-233c-4097-dddd-3e26359af9d7"
      },
      "execution_count": null,
      "outputs": [
        {
          "output_type": "stream",
          "name": "stdout",
          "text": [
            "0.6303512718591873\n",
            "26.935477723943755\n"
          ]
        }
      ]
    },
    {
      "cell_type": "code",
      "source": [
        "#RMSE\n",
        "dec_train_RMSE = np.sqrt(dec_train_MSE)\n",
        "dec_test_RMSE = np.sqrt(dec_test_MSE)\n",
        "print(dec_train_RMSE)\n",
        "print(dec_test_RMSE)"
      ],
      "metadata": {
        "colab": {
          "base_uri": "https://localhost:8080/"
        },
        "id": "WvRw9KH7yk6h",
        "outputId": "a253e8d2-3683-4e23-9cba-488611a3598c"
      },
      "execution_count": null,
      "outputs": [
        {
          "output_type": "stream",
          "name": "stdout",
          "text": [
            "0.7939466429547941\n",
            "5.189940050130035\n"
          ]
        }
      ]
    },
    {
      "cell_type": "markdown",
      "source": [
        "## 2) Bagged Tree"
      ],
      "metadata": {
        "id": "HJy2b7-lpQxF"
      }
    },
    {
      "cell_type": "code",
      "source": [
        "bag_tree = BaggingRegressor(random_state = 42)\n",
        "bag_tree.fit(x_train, y_train)\n",
        "bag_tree.predict(x_test)"
      ],
      "metadata": {
        "colab": {
          "base_uri": "https://localhost:8080/"
        },
        "id": "rFimS-6gpTQP",
        "outputId": "655ada9c-2a1a-470c-f04f-c8b36304a7e8"
      },
      "execution_count": null,
      "outputs": [
        {
          "output_type": "execute_result",
          "data": {
            "text/plain": [
              "array([22.45, 31.37, 17.96, 23.76, 15.4 , 21.23, 20.26, 13.3 , 21.38,\n",
              "       21.62, 21.71, 17.95, 11.62, 21.31, 17.49, 27.59, 21.38,  8.79,\n",
              "       47.69, 15.96, 23.35, 23.25, 12.59, 23.5 , 14.82, 14.69, 32.2 ,\n",
              "       15.7 , 19.6 , 20.59, 19.55, 22.79, 30.32, 20.85, 11.7 , 17.56,\n",
              "       34.61, 29.36, 18.27, 23.56, 17.39, 28.  , 47.69, 23.51, 25.15,\n",
              "       13.98, 15.86, 22.88, 15.44, 29.14, 23.53, 36.07, 18.85, 26.28,\n",
              "       43.54, 21.58, 14.9 , 29.18, 24.26, 19.79, 26.64, 35.35, 28.87,\n",
              "       19.41, 26.06, 19.5 , 15.52, 23.05, 26.92, 22.38, 20.29, 26.22,\n",
              "       10.01, 21.91, 21.26,  8.1 , 21.66, 49.54, 12.94, 11.84, 29.01,\n",
              "        8.34, 33.2 ,  8.78, 20.45, 26.43, 13.47, 23.46, 23.32, 16.94,\n",
              "       22.12,  7.9 , 19.79, 20.59, 35.35, 19.53, 21.98, 10.13, 15.02,\n",
              "       13.31, 19.51, 25.44, 12.  , 23.54, 18.94, 11.64, 18.95, 25.94,\n",
              "       18.62, 23.25,  6.17, 13.72, 22.5 , 22.16, 34.87, 14.49, 42.49,\n",
              "       15.41, 17.75, 24.1 , 23.7 , 24.45,  9.39, 20.83, 23.18, 19.57,\n",
              "       24.34])"
            ]
          },
          "metadata": {},
          "execution_count": 137
        }
      ]
    },
    {
      "cell_type": "markdown",
      "source": [
        "######Scoring (r2)"
      ],
      "metadata": {
        "id": "cCdSDms8szKI"
      }
    },
    {
      "cell_type": "code",
      "source": [
        "bt_train_score = bag_tree.score(x_train, y_train)\n",
        "bt_test_score = bag_tree.score(x_test, y_test)\n",
        "print(bt_train_score)\n",
        "print(bt_test_score)"
      ],
      "metadata": {
        "colab": {
          "base_uri": "https://localhost:8080/"
        },
        "id": "CzackNcyqRHZ",
        "outputId": "5581b88d-f661-486f-8ba8-8213aedd95f5"
      },
      "execution_count": null,
      "outputs": [
        {
          "output_type": "stream",
          "name": "stdout",
          "text": [
            "0.9567769581318673\n",
            "0.6716295807636126\n"
          ]
        }
      ]
    },
    {
      "cell_type": "code",
      "source": [
        "bag_tree.get_params()"
      ],
      "metadata": {
        "colab": {
          "base_uri": "https://localhost:8080/"
        },
        "id": "vj4vL2Kor1xT",
        "outputId": "30d71a51-7adf-476f-b278-bc8f6e20d49f"
      },
      "execution_count": null,
      "outputs": [
        {
          "output_type": "execute_result",
          "data": {
            "text/plain": [
              "{'base_estimator': None,\n",
              " 'bootstrap': True,\n",
              " 'bootstrap_features': False,\n",
              " 'max_features': 1.0,\n",
              " 'max_samples': 1.0,\n",
              " 'n_estimators': 10,\n",
              " 'n_jobs': None,\n",
              " 'oob_score': False,\n",
              " 'random_state': 42,\n",
              " 'verbose': 0,\n",
              " 'warm_start': False}"
            ]
          },
          "metadata": {},
          "execution_count": 139
        }
      ]
    },
    {
      "cell_type": "markdown",
      "source": [
        "######Hyperparameter Tuning"
      ],
      "metadata": {
        "id": "UReGxkSxroA0"
      }
    },
    {
      "cell_type": "code",
      "source": [
        "estimators = [10, 20, 30, 40, 50, 100]\n",
        "scores = pd.DataFrame(index=estimators, columns=['Train Score', 'Test Score'])\n",
        "for num_estimators in estimators:\n",
        "   bag_reg = BaggingRegressor(n_estimators=num_estimators, random_state=42)\n",
        "   bag_reg.fit(x_train, y_train)\n",
        "   train_score = bag_reg.score(x_train, y_train)\n",
        "   test_score = bag_reg.score(x_test, y_test)\n",
        "   scores.loc[num_estimators, 'Train Score'] = train_score\n",
        "   scores.loc[num_estimators, 'Test Score'] = test_score\n",
        "   scores = scores.sort_values(by = \"Test Score\", ascending = False)\n",
        "scores\n",
        "#40 is the optimal number for n estimators"
      ],
      "metadata": {
        "colab": {
          "base_uri": "https://localhost:8080/"
        },
        "id": "Crpfv9K5rm7O",
        "outputId": "e9182fe7-f811-465c-87b0-f3934c8470d9"
      },
      "execution_count": null,
      "outputs": [
        {
          "output_type": "execute_result",
          "data": {
            "text/plain": [
              "    Train Score Test Score\n",
              "40     0.969834   0.720751\n",
              "100    0.973266   0.718568\n",
              "50     0.970541   0.717904\n",
              "30     0.967693   0.717179\n",
              "20       0.9664   0.704722\n",
              "10     0.956777    0.67163"
            ],
            "text/html": [
              "\n",
              "  <div id=\"df-ef865e38-dd44-4dcd-8926-957379ac5445\">\n",
              "    <div class=\"colab-df-container\">\n",
              "      <div>\n",
              "<style scoped>\n",
              "    .dataframe tbody tr th:only-of-type {\n",
              "        vertical-align: middle;\n",
              "    }\n",
              "\n",
              "    .dataframe tbody tr th {\n",
              "        vertical-align: top;\n",
              "    }\n",
              "\n",
              "    .dataframe thead th {\n",
              "        text-align: right;\n",
              "    }\n",
              "</style>\n",
              "<table border=\"1\" class=\"dataframe\">\n",
              "  <thead>\n",
              "    <tr style=\"text-align: right;\">\n",
              "      <th></th>\n",
              "      <th>Train Score</th>\n",
              "      <th>Test Score</th>\n",
              "    </tr>\n",
              "  </thead>\n",
              "  <tbody>\n",
              "    <tr>\n",
              "      <th>40</th>\n",
              "      <td>0.969834</td>\n",
              "      <td>0.720751</td>\n",
              "    </tr>\n",
              "    <tr>\n",
              "      <th>100</th>\n",
              "      <td>0.973266</td>\n",
              "      <td>0.718568</td>\n",
              "    </tr>\n",
              "    <tr>\n",
              "      <th>50</th>\n",
              "      <td>0.970541</td>\n",
              "      <td>0.717904</td>\n",
              "    </tr>\n",
              "    <tr>\n",
              "      <th>30</th>\n",
              "      <td>0.967693</td>\n",
              "      <td>0.717179</td>\n",
              "    </tr>\n",
              "    <tr>\n",
              "      <th>20</th>\n",
              "      <td>0.9664</td>\n",
              "      <td>0.704722</td>\n",
              "    </tr>\n",
              "    <tr>\n",
              "      <th>10</th>\n",
              "      <td>0.956777</td>\n",
              "      <td>0.67163</td>\n",
              "    </tr>\n",
              "  </tbody>\n",
              "</table>\n",
              "</div>\n",
              "      <button class=\"colab-df-convert\" onclick=\"convertToInteractive('df-ef865e38-dd44-4dcd-8926-957379ac5445')\"\n",
              "              title=\"Convert this dataframe to an interactive table.\"\n",
              "              style=\"display:none;\">\n",
              "        \n",
              "  <svg xmlns=\"http://www.w3.org/2000/svg\" height=\"24px\"viewBox=\"0 0 24 24\"\n",
              "       width=\"24px\">\n",
              "    <path d=\"M0 0h24v24H0V0z\" fill=\"none\"/>\n",
              "    <path d=\"M18.56 5.44l.94 2.06.94-2.06 2.06-.94-2.06-.94-.94-2.06-.94 2.06-2.06.94zm-11 1L8.5 8.5l.94-2.06 2.06-.94-2.06-.94L8.5 2.5l-.94 2.06-2.06.94zm10 10l.94 2.06.94-2.06 2.06-.94-2.06-.94-.94-2.06-.94 2.06-2.06.94z\"/><path d=\"M17.41 7.96l-1.37-1.37c-.4-.4-.92-.59-1.43-.59-.52 0-1.04.2-1.43.59L10.3 9.45l-7.72 7.72c-.78.78-.78 2.05 0 2.83L4 21.41c.39.39.9.59 1.41.59.51 0 1.02-.2 1.41-.59l7.78-7.78 2.81-2.81c.8-.78.8-2.07 0-2.86zM5.41 20L4 18.59l7.72-7.72 1.47 1.35L5.41 20z\"/>\n",
              "  </svg>\n",
              "      </button>\n",
              "      \n",
              "  <style>\n",
              "    .colab-df-container {\n",
              "      display:flex;\n",
              "      flex-wrap:wrap;\n",
              "      gap: 12px;\n",
              "    }\n",
              "\n",
              "    .colab-df-convert {\n",
              "      background-color: #E8F0FE;\n",
              "      border: none;\n",
              "      border-radius: 50%;\n",
              "      cursor: pointer;\n",
              "      display: none;\n",
              "      fill: #1967D2;\n",
              "      height: 32px;\n",
              "      padding: 0 0 0 0;\n",
              "      width: 32px;\n",
              "    }\n",
              "\n",
              "    .colab-df-convert:hover {\n",
              "      background-color: #E2EBFA;\n",
              "      box-shadow: 0px 1px 2px rgba(60, 64, 67, 0.3), 0px 1px 3px 1px rgba(60, 64, 67, 0.15);\n",
              "      fill: #174EA6;\n",
              "    }\n",
              "\n",
              "    [theme=dark] .colab-df-convert {\n",
              "      background-color: #3B4455;\n",
              "      fill: #D2E3FC;\n",
              "    }\n",
              "\n",
              "    [theme=dark] .colab-df-convert:hover {\n",
              "      background-color: #434B5C;\n",
              "      box-shadow: 0px 1px 3px 1px rgba(0, 0, 0, 0.15);\n",
              "      filter: drop-shadow(0px 1px 2px rgba(0, 0, 0, 0.3));\n",
              "      fill: #FFFFFF;\n",
              "    }\n",
              "  </style>\n",
              "\n",
              "      <script>\n",
              "        const buttonEl =\n",
              "          document.querySelector('#df-ef865e38-dd44-4dcd-8926-957379ac5445 button.colab-df-convert');\n",
              "        buttonEl.style.display =\n",
              "          google.colab.kernel.accessAllowed ? 'block' : 'none';\n",
              "\n",
              "        async function convertToInteractive(key) {\n",
              "          const element = document.querySelector('#df-ef865e38-dd44-4dcd-8926-957379ac5445');\n",
              "          const dataTable =\n",
              "            await google.colab.kernel.invokeFunction('convertToInteractive',\n",
              "                                                     [key], {});\n",
              "          if (!dataTable) return;\n",
              "\n",
              "          const docLinkHtml = 'Like what you see? Visit the ' +\n",
              "            '<a target=\"_blank\" href=https://colab.research.google.com/notebooks/data_table.ipynb>data table notebook</a>'\n",
              "            + ' to learn more about interactive tables.';\n",
              "          element.innerHTML = '';\n",
              "          dataTable['output_type'] = 'display_data';\n",
              "          await google.colab.output.renderOutput(dataTable, element);\n",
              "          const docLink = document.createElement('div');\n",
              "          docLink.innerHTML = docLinkHtml;\n",
              "          element.appendChild(docLink);\n",
              "        }\n",
              "      </script>\n",
              "    </div>\n",
              "  </div>\n",
              "  "
            ]
          },
          "metadata": {},
          "execution_count": 140
        }
      ]
    },
    {
      "cell_type": "markdown",
      "source": [
        "#####Final Scores - Bagged Tree"
      ],
      "metadata": {
        "id": "467S1vTwtBLp"
      }
    },
    {
      "cell_type": "code",
      "source": [
        "#r2\n",
        "new_bag_tree = BaggingRegressor(n_estimators = 40, random_state = 42)\n",
        "new_bag_tree.fit(x_train, y_train)\n",
        "\n",
        "new_train_score = new_bag_tree.score(x_train, y_train)\n",
        "new_test_score = new_bag_tree.score(x_test, y_test)\n",
        "\n",
        "print(new_train_score)\n",
        "print(new_test_score)"
      ],
      "metadata": {
        "colab": {
          "base_uri": "https://localhost:8080/"
        },
        "id": "3vU62i7Ss7uc",
        "outputId": "ad7a18ea-da46-45d3-9479-351ca60132fc"
      },
      "execution_count": null,
      "outputs": [
        {
          "output_type": "stream",
          "name": "stdout",
          "text": [
            "0.9698341115000012\n",
            "0.7207506295830213\n"
          ]
        }
      ]
    },
    {
      "cell_type": "markdown",
      "source": [
        "######Adding Predictions"
      ],
      "metadata": {
        "id": "Poy2FFiw_iHV"
      }
    },
    {
      "cell_type": "code",
      "source": [
        "bt_train_pred = new_bag_tree.predict(x_train)\n",
        "bt_test_pred = new_bag_tree.predict(x_test)"
      ],
      "metadata": {
        "id": "u4uMxAPT_ixr"
      },
      "execution_count": null,
      "outputs": []
    },
    {
      "cell_type": "code",
      "source": [
        "#MAE\n",
        "bt_train_MAE = mean_absolute_error(y_train, bt_train_pred)\n",
        "bt_test_MAE = mean_absolute_error(y_test, bt_test_pred)\n",
        "print(bt_train_MAE)\n",
        "print(bt_test_MAE)"
      ],
      "metadata": {
        "colab": {
          "base_uri": "https://localhost:8080/"
        },
        "id": "cB3xBRVZys9c",
        "outputId": "70c50226-6249-495b-f95f-94da5e6ac91e"
      },
      "execution_count": null,
      "outputs": [
        {
          "output_type": "stream",
          "name": "stdout",
          "text": [
            "1.0839709762532985\n",
            "2.793956692913386\n"
          ]
        }
      ]
    },
    {
      "cell_type": "code",
      "source": [
        "#MSE\n",
        "bt_train_MSE = mean_squared_error(y_train, bt_train_pred)\n",
        "bt_test_MSE = mean_squared_error(y_test, bt_test_pred)\n",
        "print(bt_train_MSE)\n",
        "print(bt_test_MSE)"
      ],
      "metadata": {
        "colab": {
          "base_uri": "https://localhost:8080/"
        },
        "id": "02UElqyczIoU",
        "outputId": "629c3cbd-ab62-47df-fc32-f9e453a6f52e"
      },
      "execution_count": null,
      "outputs": [
        {
          "output_type": "stream",
          "name": "stdout",
          "text": [
            "2.675163225593668\n",
            "19.555035777559052\n"
          ]
        }
      ]
    },
    {
      "cell_type": "code",
      "source": [
        "#RMSE\n",
        "bt_train_RMSE = np.sqrt(bt_train_MSE)\n",
        "bt_test_RMSE = np.sqrt(bt_test_MSE)\n",
        "print(bt_train_RMSE)\n",
        "print(bt_test_RMSE)"
      ],
      "metadata": {
        "colab": {
          "base_uri": "https://localhost:8080/"
        },
        "id": "fmFjCFymzJmA",
        "outputId": "2e92162b-b5fe-4958-9e53-8dd14030e0cf"
      },
      "execution_count": null,
      "outputs": [
        {
          "output_type": "stream",
          "name": "stdout",
          "text": [
            "1.635592622138431\n",
            "4.422107617139033\n"
          ]
        }
      ]
    },
    {
      "cell_type": "markdown",
      "source": [
        "## 3) Random Forest"
      ],
      "metadata": {
        "id": "IJweSc0ruDTC"
      }
    },
    {
      "cell_type": "code",
      "source": [
        "rf = RandomForestRegressor(random_state = 42)\n",
        "rf.fit(x_train, y_train)"
      ],
      "metadata": {
        "colab": {
          "base_uri": "https://localhost:8080/"
        },
        "id": "ul-e987suFtW",
        "outputId": "f0c57e75-3ee8-4de1-fb4d-9e9ba072a98f"
      },
      "execution_count": null,
      "outputs": [
        {
          "output_type": "execute_result",
          "data": {
            "text/plain": [
              "RandomForestRegressor(random_state=42)"
            ]
          },
          "metadata": {},
          "execution_count": 146
        }
      ]
    },
    {
      "cell_type": "markdown",
      "source": [
        "######Scoring (r2)"
      ],
      "metadata": {
        "id": "JLic5n4_ueIy"
      }
    },
    {
      "cell_type": "code",
      "source": [
        "rf_train_score = rf.score(x_train, y_train)\n",
        "rf_test_score = rf.score(x_test, y_test)\n",
        "print(rf_train_score)\n",
        "print(rf_test_score)\n"
      ],
      "metadata": {
        "colab": {
          "base_uri": "https://localhost:8080/"
        },
        "id": "3xW5FvYkuR_F",
        "outputId": "522b7b20-38dd-4811-c84a-2b42e8566221"
      },
      "execution_count": null,
      "outputs": [
        {
          "output_type": "stream",
          "name": "stdout",
          "text": [
            "0.9741933966325389\n",
            "0.7154130948850422\n"
          ]
        }
      ]
    },
    {
      "cell_type": "markdown",
      "source": [
        "######Hyperparameter Tuning"
      ],
      "metadata": {
        "id": "Pb0zyS9Gu3AT"
      }
    },
    {
      "cell_type": "code",
      "source": [
        "rf.get_params()"
      ],
      "metadata": {
        "colab": {
          "base_uri": "https://localhost:8080/"
        },
        "id": "X6EFRDPpu6Rh",
        "outputId": "7635832e-010e-461b-91b4-73bc58f94cc5"
      },
      "execution_count": null,
      "outputs": [
        {
          "output_type": "execute_result",
          "data": {
            "text/plain": [
              "{'bootstrap': True,\n",
              " 'ccp_alpha': 0.0,\n",
              " 'criterion': 'squared_error',\n",
              " 'max_depth': None,\n",
              " 'max_features': 'auto',\n",
              " 'max_leaf_nodes': None,\n",
              " 'max_samples': None,\n",
              " 'min_impurity_decrease': 0.0,\n",
              " 'min_samples_leaf': 1,\n",
              " 'min_samples_split': 2,\n",
              " 'min_weight_fraction_leaf': 0.0,\n",
              " 'n_estimators': 100,\n",
              " 'n_jobs': None,\n",
              " 'oob_score': False,\n",
              " 'random_state': 42,\n",
              " 'verbose': 0,\n",
              " 'warm_start': False}"
            ]
          },
          "metadata": {},
          "execution_count": 148
        }
      ]
    },
    {
      "cell_type": "code",
      "source": [
        "est_depths = [estimator.get_depth() for estimator in rf.estimators_]\n",
        "depths = range(1, max(est_depths))\n",
        "scores = pd.DataFrame(index=depths, columns=['Test Score'])\n",
        "for depth in depths:    \n",
        "   model = RandomForestRegressor(max_depth=depth)\n",
        "   model.fit(x_train, y_train)\n",
        "   scores.loc[depth, 'Train Score'] = model.score(x_train, y_train)\n",
        "   scores.loc[depth, 'Test Score'] = model.score(x_test, y_test)\n",
        "scores.head()\n",
        "sort_scores = scores.sort_values(by = \"Test Score\", ascending = False)\n",
        "sort_scores.head()\n",
        "#It seems 6 is the optimal number for max depth"
      ],
      "metadata": {
        "colab": {
          "base_uri": "https://localhost:8080/"
        },
        "id": "H0AMLp1xvmlR",
        "outputId": "0f75ac7f-533e-4d66-aa90-d21edaa09759"
      },
      "execution_count": null,
      "outputs": [
        {
          "output_type": "execute_result",
          "data": {
            "text/plain": [
              "   Test Score  Train Score\n",
              "5    0.750405     0.913650\n",
              "4    0.747854     0.890948\n",
              "6     0.73878     0.935811\n",
              "7    0.737526     0.945936\n",
              "17   0.736205     0.971824"
            ],
            "text/html": [
              "\n",
              "  <div id=\"df-ef199e87-6b78-4d4f-a67a-4ab8a14cec89\">\n",
              "    <div class=\"colab-df-container\">\n",
              "      <div>\n",
              "<style scoped>\n",
              "    .dataframe tbody tr th:only-of-type {\n",
              "        vertical-align: middle;\n",
              "    }\n",
              "\n",
              "    .dataframe tbody tr th {\n",
              "        vertical-align: top;\n",
              "    }\n",
              "\n",
              "    .dataframe thead th {\n",
              "        text-align: right;\n",
              "    }\n",
              "</style>\n",
              "<table border=\"1\" class=\"dataframe\">\n",
              "  <thead>\n",
              "    <tr style=\"text-align: right;\">\n",
              "      <th></th>\n",
              "      <th>Test Score</th>\n",
              "      <th>Train Score</th>\n",
              "    </tr>\n",
              "  </thead>\n",
              "  <tbody>\n",
              "    <tr>\n",
              "      <th>5</th>\n",
              "      <td>0.750405</td>\n",
              "      <td>0.913650</td>\n",
              "    </tr>\n",
              "    <tr>\n",
              "      <th>4</th>\n",
              "      <td>0.747854</td>\n",
              "      <td>0.890948</td>\n",
              "    </tr>\n",
              "    <tr>\n",
              "      <th>6</th>\n",
              "      <td>0.73878</td>\n",
              "      <td>0.935811</td>\n",
              "    </tr>\n",
              "    <tr>\n",
              "      <th>7</th>\n",
              "      <td>0.737526</td>\n",
              "      <td>0.945936</td>\n",
              "    </tr>\n",
              "    <tr>\n",
              "      <th>17</th>\n",
              "      <td>0.736205</td>\n",
              "      <td>0.971824</td>\n",
              "    </tr>\n",
              "  </tbody>\n",
              "</table>\n",
              "</div>\n",
              "      <button class=\"colab-df-convert\" onclick=\"convertToInteractive('df-ef199e87-6b78-4d4f-a67a-4ab8a14cec89')\"\n",
              "              title=\"Convert this dataframe to an interactive table.\"\n",
              "              style=\"display:none;\">\n",
              "        \n",
              "  <svg xmlns=\"http://www.w3.org/2000/svg\" height=\"24px\"viewBox=\"0 0 24 24\"\n",
              "       width=\"24px\">\n",
              "    <path d=\"M0 0h24v24H0V0z\" fill=\"none\"/>\n",
              "    <path d=\"M18.56 5.44l.94 2.06.94-2.06 2.06-.94-2.06-.94-.94-2.06-.94 2.06-2.06.94zm-11 1L8.5 8.5l.94-2.06 2.06-.94-2.06-.94L8.5 2.5l-.94 2.06-2.06.94zm10 10l.94 2.06.94-2.06 2.06-.94-2.06-.94-.94-2.06-.94 2.06-2.06.94z\"/><path d=\"M17.41 7.96l-1.37-1.37c-.4-.4-.92-.59-1.43-.59-.52 0-1.04.2-1.43.59L10.3 9.45l-7.72 7.72c-.78.78-.78 2.05 0 2.83L4 21.41c.39.39.9.59 1.41.59.51 0 1.02-.2 1.41-.59l7.78-7.78 2.81-2.81c.8-.78.8-2.07 0-2.86zM5.41 20L4 18.59l7.72-7.72 1.47 1.35L5.41 20z\"/>\n",
              "  </svg>\n",
              "      </button>\n",
              "      \n",
              "  <style>\n",
              "    .colab-df-container {\n",
              "      display:flex;\n",
              "      flex-wrap:wrap;\n",
              "      gap: 12px;\n",
              "    }\n",
              "\n",
              "    .colab-df-convert {\n",
              "      background-color: #E8F0FE;\n",
              "      border: none;\n",
              "      border-radius: 50%;\n",
              "      cursor: pointer;\n",
              "      display: none;\n",
              "      fill: #1967D2;\n",
              "      height: 32px;\n",
              "      padding: 0 0 0 0;\n",
              "      width: 32px;\n",
              "    }\n",
              "\n",
              "    .colab-df-convert:hover {\n",
              "      background-color: #E2EBFA;\n",
              "      box-shadow: 0px 1px 2px rgba(60, 64, 67, 0.3), 0px 1px 3px 1px rgba(60, 64, 67, 0.15);\n",
              "      fill: #174EA6;\n",
              "    }\n",
              "\n",
              "    [theme=dark] .colab-df-convert {\n",
              "      background-color: #3B4455;\n",
              "      fill: #D2E3FC;\n",
              "    }\n",
              "\n",
              "    [theme=dark] .colab-df-convert:hover {\n",
              "      background-color: #434B5C;\n",
              "      box-shadow: 0px 1px 3px 1px rgba(0, 0, 0, 0.15);\n",
              "      filter: drop-shadow(0px 1px 2px rgba(0, 0, 0, 0.3));\n",
              "      fill: #FFFFFF;\n",
              "    }\n",
              "  </style>\n",
              "\n",
              "      <script>\n",
              "        const buttonEl =\n",
              "          document.querySelector('#df-ef199e87-6b78-4d4f-a67a-4ab8a14cec89 button.colab-df-convert');\n",
              "        buttonEl.style.display =\n",
              "          google.colab.kernel.accessAllowed ? 'block' : 'none';\n",
              "\n",
              "        async function convertToInteractive(key) {\n",
              "          const element = document.querySelector('#df-ef199e87-6b78-4d4f-a67a-4ab8a14cec89');\n",
              "          const dataTable =\n",
              "            await google.colab.kernel.invokeFunction('convertToInteractive',\n",
              "                                                     [key], {});\n",
              "          if (!dataTable) return;\n",
              "\n",
              "          const docLinkHtml = 'Like what you see? Visit the ' +\n",
              "            '<a target=\"_blank\" href=https://colab.research.google.com/notebooks/data_table.ipynb>data table notebook</a>'\n",
              "            + ' to learn more about interactive tables.';\n",
              "          element.innerHTML = '';\n",
              "          dataTable['output_type'] = 'display_data';\n",
              "          await google.colab.output.renderOutput(dataTable, element);\n",
              "          const docLink = document.createElement('div');\n",
              "          docLink.innerHTML = docLinkHtml;\n",
              "          element.appendChild(docLink);\n",
              "        }\n",
              "      </script>\n",
              "    </div>\n",
              "  </div>\n",
              "  "
            ]
          },
          "metadata": {},
          "execution_count": 149
        }
      ]
    },
    {
      "cell_type": "code",
      "source": [
        "n_ests = [50, 100, 150, 200, 250]\n",
        "scores2 = pd.DataFrame(index=n_ests, columns=['Test Score', 'Train Score'])\n",
        "for n in n_ests:\n",
        "   model = RandomForestRegressor(max_depth=29, n_estimators=n)\n",
        "   model.fit(x_train, y_train)\n",
        "   scores2.loc[n, 'Train Score'] = model.score(x_train, y_train)\n",
        "   scores2.loc[n, 'Test Score'] = model.score(x_test, y_test)\n",
        "scores2.head()\n",
        "sort_scores2 = scores2.sort_values(by = \"Test Score\", ascending = False)\n",
        "sort_scores2.head()\n",
        "#It seems that 100 is the optimal number of n estimators"
      ],
      "metadata": {
        "colab": {
          "base_uri": "https://localhost:8080/"
        },
        "id": "Dijm5AEEwc8b",
        "outputId": "62e34eb9-4fe4-4afa-9376-96eacf39ca24"
      },
      "execution_count": null,
      "outputs": [
        {
          "output_type": "execute_result",
          "data": {
            "text/plain": [
              "    Test Score Train Score\n",
              "50     0.73303    0.974699\n",
              "250   0.726123    0.972775\n",
              "150   0.722964    0.972409\n",
              "100   0.718939    0.974627\n",
              "200   0.718407    0.972468"
            ],
            "text/html": [
              "\n",
              "  <div id=\"df-079db000-da64-4b84-8334-adf90f1aa02f\">\n",
              "    <div class=\"colab-df-container\">\n",
              "      <div>\n",
              "<style scoped>\n",
              "    .dataframe tbody tr th:only-of-type {\n",
              "        vertical-align: middle;\n",
              "    }\n",
              "\n",
              "    .dataframe tbody tr th {\n",
              "        vertical-align: top;\n",
              "    }\n",
              "\n",
              "    .dataframe thead th {\n",
              "        text-align: right;\n",
              "    }\n",
              "</style>\n",
              "<table border=\"1\" class=\"dataframe\">\n",
              "  <thead>\n",
              "    <tr style=\"text-align: right;\">\n",
              "      <th></th>\n",
              "      <th>Test Score</th>\n",
              "      <th>Train Score</th>\n",
              "    </tr>\n",
              "  </thead>\n",
              "  <tbody>\n",
              "    <tr>\n",
              "      <th>50</th>\n",
              "      <td>0.73303</td>\n",
              "      <td>0.974699</td>\n",
              "    </tr>\n",
              "    <tr>\n",
              "      <th>250</th>\n",
              "      <td>0.726123</td>\n",
              "      <td>0.972775</td>\n",
              "    </tr>\n",
              "    <tr>\n",
              "      <th>150</th>\n",
              "      <td>0.722964</td>\n",
              "      <td>0.972409</td>\n",
              "    </tr>\n",
              "    <tr>\n",
              "      <th>100</th>\n",
              "      <td>0.718939</td>\n",
              "      <td>0.974627</td>\n",
              "    </tr>\n",
              "    <tr>\n",
              "      <th>200</th>\n",
              "      <td>0.718407</td>\n",
              "      <td>0.972468</td>\n",
              "    </tr>\n",
              "  </tbody>\n",
              "</table>\n",
              "</div>\n",
              "      <button class=\"colab-df-convert\" onclick=\"convertToInteractive('df-079db000-da64-4b84-8334-adf90f1aa02f')\"\n",
              "              title=\"Convert this dataframe to an interactive table.\"\n",
              "              style=\"display:none;\">\n",
              "        \n",
              "  <svg xmlns=\"http://www.w3.org/2000/svg\" height=\"24px\"viewBox=\"0 0 24 24\"\n",
              "       width=\"24px\">\n",
              "    <path d=\"M0 0h24v24H0V0z\" fill=\"none\"/>\n",
              "    <path d=\"M18.56 5.44l.94 2.06.94-2.06 2.06-.94-2.06-.94-.94-2.06-.94 2.06-2.06.94zm-11 1L8.5 8.5l.94-2.06 2.06-.94-2.06-.94L8.5 2.5l-.94 2.06-2.06.94zm10 10l.94 2.06.94-2.06 2.06-.94-2.06-.94-.94-2.06-.94 2.06-2.06.94z\"/><path d=\"M17.41 7.96l-1.37-1.37c-.4-.4-.92-.59-1.43-.59-.52 0-1.04.2-1.43.59L10.3 9.45l-7.72 7.72c-.78.78-.78 2.05 0 2.83L4 21.41c.39.39.9.59 1.41.59.51 0 1.02-.2 1.41-.59l7.78-7.78 2.81-2.81c.8-.78.8-2.07 0-2.86zM5.41 20L4 18.59l7.72-7.72 1.47 1.35L5.41 20z\"/>\n",
              "  </svg>\n",
              "      </button>\n",
              "      \n",
              "  <style>\n",
              "    .colab-df-container {\n",
              "      display:flex;\n",
              "      flex-wrap:wrap;\n",
              "      gap: 12px;\n",
              "    }\n",
              "\n",
              "    .colab-df-convert {\n",
              "      background-color: #E8F0FE;\n",
              "      border: none;\n",
              "      border-radius: 50%;\n",
              "      cursor: pointer;\n",
              "      display: none;\n",
              "      fill: #1967D2;\n",
              "      height: 32px;\n",
              "      padding: 0 0 0 0;\n",
              "      width: 32px;\n",
              "    }\n",
              "\n",
              "    .colab-df-convert:hover {\n",
              "      background-color: #E2EBFA;\n",
              "      box-shadow: 0px 1px 2px rgba(60, 64, 67, 0.3), 0px 1px 3px 1px rgba(60, 64, 67, 0.15);\n",
              "      fill: #174EA6;\n",
              "    }\n",
              "\n",
              "    [theme=dark] .colab-df-convert {\n",
              "      background-color: #3B4455;\n",
              "      fill: #D2E3FC;\n",
              "    }\n",
              "\n",
              "    [theme=dark] .colab-df-convert:hover {\n",
              "      background-color: #434B5C;\n",
              "      box-shadow: 0px 1px 3px 1px rgba(0, 0, 0, 0.15);\n",
              "      filter: drop-shadow(0px 1px 2px rgba(0, 0, 0, 0.3));\n",
              "      fill: #FFFFFF;\n",
              "    }\n",
              "  </style>\n",
              "\n",
              "      <script>\n",
              "        const buttonEl =\n",
              "          document.querySelector('#df-079db000-da64-4b84-8334-adf90f1aa02f button.colab-df-convert');\n",
              "        buttonEl.style.display =\n",
              "          google.colab.kernel.accessAllowed ? 'block' : 'none';\n",
              "\n",
              "        async function convertToInteractive(key) {\n",
              "          const element = document.querySelector('#df-079db000-da64-4b84-8334-adf90f1aa02f');\n",
              "          const dataTable =\n",
              "            await google.colab.kernel.invokeFunction('convertToInteractive',\n",
              "                                                     [key], {});\n",
              "          if (!dataTable) return;\n",
              "\n",
              "          const docLinkHtml = 'Like what you see? Visit the ' +\n",
              "            '<a target=\"_blank\" href=https://colab.research.google.com/notebooks/data_table.ipynb>data table notebook</a>'\n",
              "            + ' to learn more about interactive tables.';\n",
              "          element.innerHTML = '';\n",
              "          dataTable['output_type'] = 'display_data';\n",
              "          await google.colab.output.renderOutput(dataTable, element);\n",
              "          const docLink = document.createElement('div');\n",
              "          docLink.innerHTML = docLinkHtml;\n",
              "          element.appendChild(docLink);\n",
              "        }\n",
              "      </script>\n",
              "    </div>\n",
              "  </div>\n",
              "  "
            ]
          },
          "metadata": {},
          "execution_count": 150
        }
      ]
    },
    {
      "cell_type": "markdown",
      "source": [
        "#####Final Scores - Random Forest"
      ],
      "metadata": {
        "id": "XhCZ3DOMwUNT"
      }
    },
    {
      "cell_type": "code",
      "source": [
        "#r2\n",
        "new_rf = RandomForestRegressor(max_depth = 6, n_estimators = 100, random_state = 42)\n",
        "new_rf.fit(x_train, y_train)\n",
        "\n",
        "newrf_train_scores = new_rf.score(x_train, y_train)\n",
        "newrf_test_scores = new_rf.score(x_test, y_test)\n",
        "\n",
        "print(newrf_train_scores)\n",
        "print(newrf_test_scores)"
      ],
      "metadata": {
        "colab": {
          "base_uri": "https://localhost:8080/"
        },
        "id": "39NxTI3CwWfn",
        "outputId": "def8602d-9ee4-4724-ce31-8a45620ae1ea"
      },
      "execution_count": null,
      "outputs": [
        {
          "output_type": "stream",
          "name": "stdout",
          "text": [
            "0.9351330666079332\n",
            "0.7460864504521865\n"
          ]
        }
      ]
    },
    {
      "cell_type": "markdown",
      "source": [
        "######Adding Predictions"
      ],
      "metadata": {
        "id": "j4NUH1e1zhcH"
      }
    },
    {
      "cell_type": "code",
      "source": [
        "rf_train_pred = new_rf.predict(x_train)\n",
        "rf_test_pred = new_rf.predict(x_test)"
      ],
      "metadata": {
        "id": "2LRAS2COzjl5"
      },
      "execution_count": null,
      "outputs": []
    },
    {
      "cell_type": "code",
      "source": [
        "#MAE\n",
        "rf_train_MAE = mean_absolute_error(y_train, rf_train_pred)\n",
        "rf_test_MAE = mean_absolute_error(y_test, rf_test_pred)\n",
        "print(rf_train_MAE)\n",
        "print(rf_test_MAE)"
      ],
      "metadata": {
        "colab": {
          "base_uri": "https://localhost:8080/"
        },
        "id": "YvMgMU6ezP45",
        "outputId": "1ef11009-3a46-416c-ec9c-d904747c3e0c"
      },
      "execution_count": null,
      "outputs": [
        {
          "output_type": "stream",
          "name": "stdout",
          "text": [
            "1.7804889683780467\n",
            "2.6409048427937893\n"
          ]
        }
      ]
    },
    {
      "cell_type": "code",
      "source": [
        "#MSE\n",
        "rf_train_MSE = mean_squared_error(y_train, train_pred)\n",
        "rf_test_MSE = mean_squared_error(y_test, test_pred)\n",
        "print(rf_train_MSE)\n",
        "print(rf_test_MSE)"
      ],
      "metadata": {
        "colab": {
          "base_uri": "https://localhost:8080/"
        },
        "id": "SugYVJfNzQsk",
        "outputId": "db3886b0-d69d-4947-8598-7b36866f0ac7"
      },
      "execution_count": null,
      "outputs": [
        {
          "output_type": "stream",
          "name": "stdout",
          "text": [
            "0.0\n",
            "37.98818897637794\n"
          ]
        }
      ]
    },
    {
      "cell_type": "code",
      "source": [
        "#RMSE\n",
        "rf_train_RMSE = np.sqrt(rf_train_MSE)\n",
        "rf_test_RMSE = np.sqrt(rf_test_MSE)\n",
        "print(rf_train_RMSE)\n",
        "print(rf_test_RMSE)"
      ],
      "metadata": {
        "colab": {
          "base_uri": "https://localhost:8080/"
        },
        "id": "MLs_S0WvzRie",
        "outputId": "f16c2fed-b1e4-4a2c-e820-792fe88aa764"
      },
      "execution_count": null,
      "outputs": [
        {
          "output_type": "stream",
          "name": "stdout",
          "text": [
            "0.0\n",
            "6.163455927998345\n"
          ]
        }
      ]
    },
    {
      "cell_type": "markdown",
      "source": [
        "#Conclusion"
      ],
      "metadata": {
        "id": "7Vjcb4RYzS4y"
      }
    },
    {
      "cell_type": "markdown",
      "source": [
        "Decision Tree Metrics     \n",
        "- r2 Train = 0.992 \n",
        "- r2 Test = 0.615\n",
        "- MAE Train = 0.389\n",
        "- MAE Test = 3.284\n",
        "- MSE Train = 0.630\n",
        "- MSE Test = 26.935\n",
        "- RMSE Train = 0.793\n",
        "- RMSE Test = 5.189\n",
        "\n",
        "---\n",
        "Bagged Tree Metrics\n",
        "- r2 Train = 0.969\n",
        "- r2 Test = 0.720\n",
        "- MAE Train = 1.083\n",
        "- MAE Test = 2.793\n",
        "- MSE Train = 2.675\n",
        "- MSE Test = 19.555\n",
        "- RMSE Train = 1.635\n",
        "- RMSE Test = 4.422\n",
        "\n",
        "---\n",
        "Random Forest Metrics\n",
        "- r2 Train = 0.935\n",
        "- r2 Test = 0.746\n",
        "- MAE Train = 1.780\n",
        "- MAE Test = 2.640\n",
        "- MSE Train = 0\n",
        "- MSE Test = 37.988\n",
        "- RMSE Train = 0\n",
        "- RMSE Test = 6.163\n"
      ],
      "metadata": {
        "id": "lXgGjf-uzVgR"
      }
    },
    {
      "cell_type": "markdown",
      "source": [
        "Based off of these results, we can see that although our Random Forest model has the best test r2 score, by looking at the MAE and RMSE we can see that the model is overfitting. The model with the most consistent metrics is our Bagged Tree Model. It can account for 72% of the data and the difference between the train and test set are the most minimal. "
      ],
      "metadata": {
        "id": "8dty6nsOAnre"
      }
    }
  ]
}